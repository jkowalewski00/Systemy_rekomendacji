{
 "cells": [
  {
   "cell_type": "markdown",
   "source": [
    "# Zmiana formatu na użytkownik/produkt/ocena"
   ],
   "metadata": {
    "collapsed": false
   },
   "id": "8ab8883ab6c366a4"
  },
  {
   "cell_type": "code",
   "outputs": [],
   "source": [
    "import pandas as pd"
   ],
   "metadata": {
    "collapsed": true,
    "ExecuteTime": {
     "end_time": "2024-11-20T09:52:26.940658Z",
     "start_time": "2024-11-20T09:52:26.289085Z"
    }
   },
   "id": "initial_id",
   "execution_count": 1
  },
  {
   "cell_type": "code",
   "outputs": [
    {
     "data": {
      "text/plain": "['Arkusz1']"
     },
     "execution_count": 2,
     "metadata": {},
     "output_type": "execute_result"
    }
   ],
   "source": [
    "file_path = 'preferencje.xlsx'\n",
    "excel_data = pd.ExcelFile(file_path)\n",
    "\n",
    "# Check sheet names to understand the structure\n",
    "excel_data.sheet_names"
   ],
   "metadata": {
    "collapsed": false,
    "ExecuteTime": {
     "end_time": "2024-11-20T09:52:29.468978Z",
     "start_time": "2024-11-20T09:52:29.149357Z"
    }
   },
   "id": "36b1e56f72e23cef",
   "execution_count": 2
  },
  {
   "cell_type": "code",
   "outputs": [
    {
     "data": {
      "text/plain": "    Unnamed: 0  \\\n0          NaN   \n1  Users/Items   \n2          Ula   \n3       109815   \n4       109521   \n\n  https://hiszpanskiesmaki.pl/przepis-na-paella-mixta-z-owocami-morza-i-miesem/  \\\n0                                            paella                               \n1                                                NaN                              \n2                                                  4                              \n3                                                  3                              \n4                                                  4                              \n\n  https://www.kwestiasmaku.com/przepis/pascha-wielkanocna   \\\n0                                 pascha wielkanocna         \n1                                                NaN         \n2                                                  5         \n3                                                  3         \n4                                                  5         \n\n  https://aniagotuje.pl/przepis/rosol-z-kury  \\\n0                               rosół z kury   \n1                                        NaN   \n2                                        NaN   \n3                                          5   \n4                                          4   \n\n  https://www.kwestiasmaku.com/przepis/zupa-z-dyni  \\\n0                                     zupa dyniowa   \n1                                              NaN   \n2                                              NaN   \n3                                                5   \n4                                                3   \n\n  https://www.kwestiasmaku.com/przepis/salatka-gyros  \\\n0                                              Gyros   \n1                                                NaN   \n2                                                NaN   \n3                                                  4   \n4                                                  5   \n\n  https://aniagotuje.pl/przepis/poledwiczki-w-sosie-musztardowym  \\\n0                   Polędwiczki w sosie musztardowym               \n1                                                NaN               \n2                                                NaN               \n3                                                  3               \n4                                                  5               \n\n  Kaszanka z grilla | AniaGotuje.pl Sałatka z ananasem | AniaGotuje.pl  \\\n0                          Kaszanka                 Sałatka z ananasem   \n1                               NaN                                NaN   \n2                               NaN                                NaN   \n3                                 2                                  5   \n4                                 4                                NaN   \n\n  https://www.mniammniam.com/przepis-na-miesny-jez  ...  \\\n0                                       Mięsny jeż  ...   \n1                                              NaN  ...   \n2                                              NaN  ...   \n3                                                4  ...   \n4                                              NaN  ...   \n\n  https://aniagotuje.pl/przepis/zurek-wielkanocny  \\\n0                                           żurek   \n1                                             NaN   \n2                                             NaN   \n3                                               5   \n4                                             NaN   \n\n  https://aniagotuje.pl/przepis/kebab https://aniagotuje.pl/przepis/tatar  \\\n0                               kebab                               tatar   \n1                                 NaN                                 NaN   \n2                                 NaN                                 NaN   \n3                                 NaN                                 NaN   \n4                                 NaN                                 NaN   \n\n  https://aniagotuje.pl/przepis/falafel  \\\n0                               falafel   \n1                                   NaN   \n2                                   NaN   \n3                                   NaN   \n4                                   NaN   \n\n  https://aniagotuje.pl/przepis/tradycyjny-barszcz-wigilijny  \\\n0                                   barszcz czerwony           \n1                                                NaN           \n2                                                NaN           \n3                                                NaN           \n4                                                NaN           \n\n  https://aniagotuje.pl/przepis/pierogi-ruskie  \\\n0                               pierogi ruskie   \n1                                          NaN   \n2                                          NaN   \n3                                          NaN   \n4                                          NaN   \n\n  https://www.doradcasmaku.pl/przepis-kiszka-ziemniaczana-258674  \\\n0                                kiszka ziemniaczana               \n1                                                NaN               \n2                                                NaN               \n3                                                NaN               \n4                                                NaN               \n\n  https://aniagotuje.pl/przepis/strogonow  \\\n0                         Boeuf strogonow   \n1                                     NaN   \n2                                     NaN   \n3                                     NaN   \n4                                     NaN   \n\n  https://aniagotuje.pl/przepis/nalesniki-z-serem-i-owocami  \\\n0                                  Naleśniki z serem          \n1                                                NaN          \n2                                                NaN          \n3                                                NaN          \n4                                                NaN          \n\n  https://www.kwestiasmaku.com/kuchnia_polska/pierogi/pierogi_z_miesem/przepis.html  \n0                                   Pierogi z mięsem                                 \n1                                                NaN                                 \n2                                                NaN                                 \n3                                                NaN                                 \n4                                                NaN                                 \n\n[5 rows x 22 columns]",
      "text/html": "<div>\n<style scoped>\n    .dataframe tbody tr th:only-of-type {\n        vertical-align: middle;\n    }\n\n    .dataframe tbody tr th {\n        vertical-align: top;\n    }\n\n    .dataframe thead th {\n        text-align: right;\n    }\n</style>\n<table border=\"1\" class=\"dataframe\">\n  <thead>\n    <tr style=\"text-align: right;\">\n      <th></th>\n      <th>Unnamed: 0</th>\n      <th>https://hiszpanskiesmaki.pl/przepis-na-paella-mixta-z-owocami-morza-i-miesem/</th>\n      <th>https://www.kwestiasmaku.com/przepis/pascha-wielkanocna</th>\n      <th>https://aniagotuje.pl/przepis/rosol-z-kury</th>\n      <th>https://www.kwestiasmaku.com/przepis/zupa-z-dyni</th>\n      <th>https://www.kwestiasmaku.com/przepis/salatka-gyros</th>\n      <th>https://aniagotuje.pl/przepis/poledwiczki-w-sosie-musztardowym</th>\n      <th>Kaszanka z grilla | AniaGotuje.pl</th>\n      <th>Sałatka z ananasem | AniaGotuje.pl</th>\n      <th>https://www.mniammniam.com/przepis-na-miesny-jez</th>\n      <th>...</th>\n      <th>https://aniagotuje.pl/przepis/zurek-wielkanocny</th>\n      <th>https://aniagotuje.pl/przepis/kebab</th>\n      <th>https://aniagotuje.pl/przepis/tatar</th>\n      <th>https://aniagotuje.pl/przepis/falafel</th>\n      <th>https://aniagotuje.pl/przepis/tradycyjny-barszcz-wigilijny</th>\n      <th>https://aniagotuje.pl/przepis/pierogi-ruskie</th>\n      <th>https://www.doradcasmaku.pl/przepis-kiszka-ziemniaczana-258674</th>\n      <th>https://aniagotuje.pl/przepis/strogonow</th>\n      <th>https://aniagotuje.pl/przepis/nalesniki-z-serem-i-owocami</th>\n      <th>https://www.kwestiasmaku.com/kuchnia_polska/pierogi/pierogi_z_miesem/przepis.html</th>\n    </tr>\n  </thead>\n  <tbody>\n    <tr>\n      <th>0</th>\n      <td>NaN</td>\n      <td>paella</td>\n      <td>pascha wielkanocna</td>\n      <td>rosół z kury</td>\n      <td>zupa dyniowa</td>\n      <td>Gyros</td>\n      <td>Polędwiczki w sosie musztardowym</td>\n      <td>Kaszanka</td>\n      <td>Sałatka z ananasem</td>\n      <td>Mięsny jeż</td>\n      <td>...</td>\n      <td>żurek</td>\n      <td>kebab</td>\n      <td>tatar</td>\n      <td>falafel</td>\n      <td>barszcz czerwony</td>\n      <td>pierogi ruskie</td>\n      <td>kiszka ziemniaczana</td>\n      <td>Boeuf strogonow</td>\n      <td>Naleśniki z serem</td>\n      <td>Pierogi z mięsem</td>\n    </tr>\n    <tr>\n      <th>1</th>\n      <td>Users/Items</td>\n      <td>NaN</td>\n      <td>NaN</td>\n      <td>NaN</td>\n      <td>NaN</td>\n      <td>NaN</td>\n      <td>NaN</td>\n      <td>NaN</td>\n      <td>NaN</td>\n      <td>NaN</td>\n      <td>...</td>\n      <td>NaN</td>\n      <td>NaN</td>\n      <td>NaN</td>\n      <td>NaN</td>\n      <td>NaN</td>\n      <td>NaN</td>\n      <td>NaN</td>\n      <td>NaN</td>\n      <td>NaN</td>\n      <td>NaN</td>\n    </tr>\n    <tr>\n      <th>2</th>\n      <td>Ula</td>\n      <td>4</td>\n      <td>5</td>\n      <td>NaN</td>\n      <td>NaN</td>\n      <td>NaN</td>\n      <td>NaN</td>\n      <td>NaN</td>\n      <td>NaN</td>\n      <td>NaN</td>\n      <td>...</td>\n      <td>NaN</td>\n      <td>NaN</td>\n      <td>NaN</td>\n      <td>NaN</td>\n      <td>NaN</td>\n      <td>NaN</td>\n      <td>NaN</td>\n      <td>NaN</td>\n      <td>NaN</td>\n      <td>NaN</td>\n    </tr>\n    <tr>\n      <th>3</th>\n      <td>109815</td>\n      <td>3</td>\n      <td>3</td>\n      <td>5</td>\n      <td>5</td>\n      <td>4</td>\n      <td>3</td>\n      <td>2</td>\n      <td>5</td>\n      <td>4</td>\n      <td>...</td>\n      <td>5</td>\n      <td>NaN</td>\n      <td>NaN</td>\n      <td>NaN</td>\n      <td>NaN</td>\n      <td>NaN</td>\n      <td>NaN</td>\n      <td>NaN</td>\n      <td>NaN</td>\n      <td>NaN</td>\n    </tr>\n    <tr>\n      <th>4</th>\n      <td>109521</td>\n      <td>4</td>\n      <td>5</td>\n      <td>4</td>\n      <td>3</td>\n      <td>5</td>\n      <td>5</td>\n      <td>4</td>\n      <td>NaN</td>\n      <td>NaN</td>\n      <td>...</td>\n      <td>NaN</td>\n      <td>NaN</td>\n      <td>NaN</td>\n      <td>NaN</td>\n      <td>NaN</td>\n      <td>NaN</td>\n      <td>NaN</td>\n      <td>NaN</td>\n      <td>NaN</td>\n      <td>NaN</td>\n    </tr>\n  </tbody>\n</table>\n<p>5 rows × 22 columns</p>\n</div>"
     },
     "execution_count": 3,
     "metadata": {},
     "output_type": "execute_result"
    }
   ],
   "source": [
    "sheet_data = pd.read_excel(file_path, sheet_name='Arkusz1')\n",
    "sheet_data.head()"
   ],
   "metadata": {
    "collapsed": false,
    "ExecuteTime": {
     "end_time": "2024-11-20T09:52:30.030170Z",
     "start_time": "2024-11-20T09:52:29.974032Z"
    }
   },
   "id": "ad111c4818451b27",
   "execution_count": 3
  },
  {
   "cell_type": "code",
   "outputs": [
    {
     "data": {
      "text/plain": "        user            product  rating\n1        Ula            paella      4.0\n2     109815            paella      3.0\n3     109521            paella      4.0\n4     107792            paella      3.0\n6     109812            paella      4.0\n..       ...                ...     ...\n395   109852    Boeuf strogonow     5.0\n396  107 885    Boeuf strogonow     3.0\n417  107 885  Naleśniki z serem     5.0\n438  107 885   Pierogi z mięsem     4.0\n440   107791   Pierogi z mięsem     5.0\n\n[221 rows x 3 columns]",
      "text/html": "<div>\n<style scoped>\n    .dataframe tbody tr th:only-of-type {\n        vertical-align: middle;\n    }\n\n    .dataframe tbody tr th {\n        vertical-align: top;\n    }\n\n    .dataframe thead th {\n        text-align: right;\n    }\n</style>\n<table border=\"1\" class=\"dataframe\">\n  <thead>\n    <tr style=\"text-align: right;\">\n      <th></th>\n      <th>user</th>\n      <th>product</th>\n      <th>rating</th>\n    </tr>\n  </thead>\n  <tbody>\n    <tr>\n      <th>1</th>\n      <td>Ula</td>\n      <td>paella</td>\n      <td>4.0</td>\n    </tr>\n    <tr>\n      <th>2</th>\n      <td>109815</td>\n      <td>paella</td>\n      <td>3.0</td>\n    </tr>\n    <tr>\n      <th>3</th>\n      <td>109521</td>\n      <td>paella</td>\n      <td>4.0</td>\n    </tr>\n    <tr>\n      <th>4</th>\n      <td>107792</td>\n      <td>paella</td>\n      <td>3.0</td>\n    </tr>\n    <tr>\n      <th>6</th>\n      <td>109812</td>\n      <td>paella</td>\n      <td>4.0</td>\n    </tr>\n    <tr>\n      <th>...</th>\n      <td>...</td>\n      <td>...</td>\n      <td>...</td>\n    </tr>\n    <tr>\n      <th>395</th>\n      <td>109852</td>\n      <td>Boeuf strogonow</td>\n      <td>5.0</td>\n    </tr>\n    <tr>\n      <th>396</th>\n      <td>107 885</td>\n      <td>Boeuf strogonow</td>\n      <td>3.0</td>\n    </tr>\n    <tr>\n      <th>417</th>\n      <td>107 885</td>\n      <td>Naleśniki z serem</td>\n      <td>5.0</td>\n    </tr>\n    <tr>\n      <th>438</th>\n      <td>107 885</td>\n      <td>Pierogi z mięsem</td>\n      <td>4.0</td>\n    </tr>\n    <tr>\n      <th>440</th>\n      <td>107791</td>\n      <td>Pierogi z mięsem</td>\n      <td>5.0</td>\n    </tr>\n  </tbody>\n</table>\n<p>221 rows × 3 columns</p>\n</div>"
     },
     "execution_count": 4,
     "metadata": {},
     "output_type": "execute_result"
    }
   ],
   "source": [
    "data = pd.read_excel(file_path, sheet_name='Arkusz1', skiprows=1) \n",
    "\n",
    "# Drop empty columns and rows to clean the data\n",
    "data_cleaned = data.dropna(how=\"all\", axis=1).dropna(how=\"all\", axis=0)\n",
    "\n",
    "# Rename columns for clarity\n",
    "data_cleaned.columns = [\"user\"] + list(data_cleaned.columns[1:])\n",
    "\n",
    "# Melt the dataframe to transform it into user/product/score format\n",
    "data_melted = pd.melt(data_cleaned, id_vars=[\"user\"], var_name=\"product\", value_name=\"rating\")\n",
    "\n",
    "# Drop rows where Score is NaN (unrated products)\n",
    "data_final = data_melted.dropna(subset=[\"rating\"])\n",
    "\n",
    "data_final"
   ],
   "metadata": {
    "collapsed": false,
    "ExecuteTime": {
     "end_time": "2024-11-20T09:52:30.582791Z",
     "start_time": "2024-11-20T09:52:30.528386Z"
    }
   },
   "id": "790d274b80642288",
   "execution_count": 4
  },
  {
   "cell_type": "code",
   "outputs": [],
   "source": [
    "data_final.to_csv(\"data.csv\",index=False)"
   ],
   "metadata": {
    "collapsed": false,
    "ExecuteTime": {
     "end_time": "2024-11-20T09:52:31.334863Z",
     "start_time": "2024-11-20T09:52:31.315934Z"
    }
   },
   "id": "c93605f107a14471",
   "execution_count": 5
  },
  {
   "cell_type": "markdown",
   "source": [
    "# Ocena algorytmów"
   ],
   "metadata": {
    "collapsed": false
   },
   "id": "3eb14a5e417deb8f"
  },
  {
   "cell_type": "code",
   "outputs": [
    {
     "name": "stdout",
     "output_type": "stream",
     "text": [
      "Computing the msd similarity matrix...\n",
      "Done computing similarity matrix.\n",
      "Computing the msd similarity matrix...\n",
      "Done computing similarity matrix.\n",
      "Computing the msd similarity matrix...\n",
      "Done computing similarity matrix.\n",
      "Computing the msd similarity matrix...\n",
      "Done computing similarity matrix.\n",
      "Computing the msd similarity matrix...\n",
      "Done computing similarity matrix.\n",
      "Evaluating RMSE, MAE of algorithm KNNBasic on 5 split(s).\n",
      "\n",
      "                  Fold 1  Fold 2  Fold 3  Fold 4  Fold 5  Mean    Std     \n",
      "RMSE (testset)    1.3558  1.1494  1.3608  1.2083  1.2199  1.2588  0.0847  \n",
      "MAE (testset)     1.0369  0.9588  1.1318  0.9825  0.9719  1.0164  0.0635  \n",
      "Fit time          0.00    0.00    0.00    0.00    0.00    0.00    0.00    \n",
      "Test time         0.00    0.00    0.00    0.00    0.00    0.00    0.00    \n"
     ]
    },
    {
     "data": {
      "text/plain": "{'test_rmse': array([1.35583141, 1.14941491, 1.36079631, 1.20825156, 1.21988753]),\n 'test_mae': array([1.03690485, 0.95878265, 1.13175966, 0.98249825, 0.97193879]),\n 'fit_time': (0.0, 0.0, 0.0010004043579101562, 0.0, 0.0),\n 'test_time': (0.001008749008178711,\n  0.00099945068359375,\n  0.0,\n  0.0,\n  0.0010018348693847656)}"
     },
     "execution_count": 20,
     "metadata": {},
     "output_type": "execute_result"
    }
   ],
   "source": [
    "import pandas as pd\n",
    "from surprise import Dataset, Reader\n",
    "from surprise import SVD, KNNBasic, BaselineOnly, NormalPredictor,Random\n",
    "from surprise.model_selection import cross_validate\n",
    "\n",
    "\n",
    "data = pd.read_csv(\"data.csv\")  # Upewnij się, że plik zawiera odpowiednie kolumny\n",
    "reader = Reader(rating_scale=(1.0, 5.0))  # Ustaw zakres ocen, np. od 1 do 5\n",
    "dataset = Dataset.load_from_df(data[[\"user\", \"product\", \"rating\"]], reader)\n",
    "\n",
    "algo = SVD()\n",
    "cross_validate(algo, dataset, measures=['RMSE', 'MAE'], cv=5, verbose=True)\n"
   ],
   "metadata": {
    "collapsed": false,
    "ExecuteTime": {
     "end_time": "2024-11-20T10:07:09.425246Z",
     "start_time": "2024-11-20T10:07:09.401392Z"
    }
   },
   "id": "db07261796a53d2f",
   "execution_count": 20
  },
  {
   "cell_type": "code",
   "outputs": [
    {
     "name": "stdout",
     "output_type": "stream",
     "text": [
      "Evaluating RMSE of algorithm NormalPredictor on 5 split(s).\n",
      "\n",
      "                  Fold 1  Fold 2  Fold 3  Fold 4  Fold 5  Mean    Std     \n",
      "RMSE (testset)    1.5124  1.8194  1.8617  1.8058  1.7569  1.7512  0.1240  \n",
      "Fit time          0.00    0.00    0.00    0.00    0.00    0.00    0.00    \n",
      "Test time         0.00    0.00    0.00    0.00    0.00    0.00    0.00    \n"
     ]
    },
    {
     "data": {
      "text/plain": "{'test_rmse': array([1.51240825, 1.81939707, 1.86169091, 1.80583615, 1.75688096]),\n 'fit_time': (0.0,\n  0.001013040542602539,\n  0.0004980564117431641,\n  0.0003859996795654297,\n  0.0),\n 'test_time': (0.0, 0.0002040863037109375, 0.0, 0.0, 0.0)}"
     },
     "execution_count": 24,
     "metadata": {},
     "output_type": "execute_result"
    }
   ],
   "source": [
    "algo = NormalPredictor()\n",
    "cross_validate(algo, dataset, measures=['RMSE'], cv=5, verbose=True)"
   ],
   "metadata": {
    "collapsed": false,
    "ExecuteTime": {
     "end_time": "2024-11-20T10:12:48.320834Z",
     "start_time": "2024-11-20T10:12:48.303721Z"
    }
   },
   "id": "cd965de5997063ba",
   "execution_count": 24
  },
  {
   "cell_type": "code",
   "outputs": [
    {
     "name": "stdout",
     "output_type": "stream",
     "text": [
      "Computing the msd similarity matrix...\n",
      "Done computing similarity matrix.\n",
      "Computing the msd similarity matrix...\n",
      "Done computing similarity matrix.\n",
      "Computing the msd similarity matrix...\n",
      "Done computing similarity matrix.\n",
      "Computing the msd similarity matrix...\n",
      "Done computing similarity matrix.\n",
      "Computing the msd similarity matrix...\n",
      "Done computing similarity matrix.\n",
      "Evaluating RMSE of algorithm KNNBasic on 5 split(s).\n",
      "\n",
      "                  Fold 1  Fold 2  Fold 3  Fold 4  Fold 5  Mean    Std     \n",
      "RMSE (testset)    1.2864  1.2670  1.0459  1.2316  1.1951  1.2052  0.0856  \n",
      "Fit time          0.00    0.00    0.00    0.00    0.00    0.00    0.00    \n",
      "Test time         0.00    0.00    0.00    0.00    0.00    0.00    0.00    \n"
     ]
    },
    {
     "data": {
      "text/plain": "{'test_rmse': array([1.28635829, 1.26703903, 1.04585144, 1.23164524, 1.1951414 ]),\n 'fit_time': (0.0, 0.000499725341796875, 0.0, 0.0, 0.0),\n 'test_time': (0.0010688304901123047,\n  0.0,\n  0.0011818408966064453,\n  0.0,\n  0.00101470947265625)}"
     },
     "execution_count": 23,
     "metadata": {},
     "output_type": "execute_result"
    }
   ],
   "source": [
    "algo = KNNBasic()\n",
    "cross_validate(algo, dataset, measures=['RMSE'], cv=5, verbose=True)"
   ],
   "metadata": {
    "collapsed": false,
    "ExecuteTime": {
     "end_time": "2024-11-20T10:12:41.630161Z",
     "start_time": "2024-11-20T10:12:41.618728Z"
    }
   },
   "id": "aa90055044b9eb1c",
   "execution_count": 23
  },
  {
   "cell_type": "code",
   "outputs": [
    {
     "name": "stdout",
     "output_type": "stream",
     "text": [
      "Estimating biases using als...\n",
      "Estimating biases using als...\n",
      "Estimating biases using als...\n",
      "Estimating biases using als...\n",
      "Estimating biases using als...\n",
      "Evaluating RMSE of algorithm BaselineOnly on 5 split(s).\n",
      "\n",
      "                  Fold 1  Fold 2  Fold 3  Fold 4  Fold 5  Mean    Std     \n",
      "RMSE (testset)    1.3129  1.2531  1.1897  1.2171  1.1534  1.2253  0.0547  \n",
      "Fit time          0.00    0.00    0.00    0.00    0.00    0.00    0.00    \n",
      "Test time         0.00    0.00    0.00    0.00    0.00    0.00    0.00    \n"
     ]
    },
    {
     "data": {
      "text/plain": "{'test_rmse': array([1.31290542, 1.25314944, 1.18972269, 1.21707945, 1.15340215]),\n 'fit_time': (0.0010039806365966797,\n  0.0005555152893066406,\n  0.0005116462707519531,\n  0.0,\n  0.00016498565673828125),\n 'test_time': (0.0, 0.0, 0.0, 0.0, 0.0)}"
     },
     "execution_count": 25,
     "metadata": {},
     "output_type": "execute_result"
    }
   ],
   "source": [
    "algo = BaselineOnly()\n",
    "cross_validate(algo, dataset, measures=['RMSE'], cv=5, verbose=True)"
   ],
   "metadata": {
    "collapsed": false,
    "ExecuteTime": {
     "end_time": "2024-11-20T10:15:00.682246Z",
     "start_time": "2024-11-20T10:15:00.670955Z"
    }
   },
   "id": "4fed4f2f80fb0460",
   "execution_count": 25
  },
  {
   "cell_type": "code",
   "outputs": [
    {
     "name": "stdout",
     "output_type": "stream",
     "text": [
      "Trzy najbardziej rekomendowane potrawy dla 107885:\n",
      "1. kebab, ocena 4.08\n",
      "2. ciasto murzynek, ocena 4.04\n",
      "3. Gyros, ocena 3.99\n"
     ]
    }
   ],
   "source": [
    "from surprise import Dataset, Reader, SVD\n",
    "from surprise.model_selection import train_test_split\n",
    "\n",
    "# Przygotowanie danych\n",
    "reader = Reader(rating_scale=(1, 5))  # Określenie zakresu ocen\n",
    "data123 = Dataset.load_from_df(data[[\"user\", \"product\", \"rating\"]], reader)\n",
    "\n",
    "# Podział danych na zbiór treningowy i testowy\n",
    "trainset, testset = train_test_split(data123, test_size=0.2)\n",
    "\n",
    "# Algorytm rekomendacji\n",
    "algo = SVD()  # Można użyć innego algorytmu np. KNNBasic, RandomPredictor, itp.\n",
    "algo.fit(trainset)\n",
    "\n",
    "# Wybrany użytkownik\n",
    "selected_user = '107885'  # Zamień na ID użytkownika, którego rekomendacje chcesz wygenerować\n",
    "\n",
    "# Lista wszystkich produktów\n",
    "all_products = data['product'].unique()\n",
    "\n",
    "# Produkty, które użytkownik już ocenił\n",
    "rated_products = data[data['user'] == selected_user]['product'].values\n",
    "\n",
    "# Produkty, których użytkownik jeszcze nie ocenił\n",
    "unrated_products = [p for p in all_products if p not in rated_products]\n",
    "\n",
    "# Przewidywanie ocen dla nieocenionych produktów\n",
    "recommendations = []\n",
    "for product in unrated_products:\n",
    "    prediction = algo.predict(selected_user, product)\n",
    "    recommendations.append((product, prediction.est))\n",
    "\n",
    "# Sortowanie rekomendacji według przewidywanej oceny (malejąco)\n",
    "recommendations.sort(key=lambda x: x[1], reverse=True)\n",
    "\n",
    "print(f\"Trzy najbardziej rekomendowane potrawy dla {selected_user}:\")\n",
    "for i in range(min(3, len(recommendations))):\n",
    "    product, rating = recommendations[i]\n",
    "    print(f\"{i + 1}. {product}, ocena {rating:.2f}\")\n"
   ],
   "metadata": {
    "collapsed": false,
    "ExecuteTime": {
     "end_time": "2024-11-20T10:20:39.270597Z",
     "start_time": "2024-11-20T10:20:39.256155Z"
    }
   },
   "id": "e527a73c6603aca",
   "execution_count": 37
  },
  {
   "cell_type": "code",
   "outputs": [
    {
     "name": "stdout",
     "output_type": "stream",
     "text": [
      "Trzy najbardziej rekomendowane potrawy dla 107885:\n",
      "1. kebab z przewidywaną oceną 4.17\n",
      "2. ciasto murzynek z przewidywaną oceną 4.11\n",
      "3. żurek z przewidywaną oceną 4.00\n"
     ]
    }
   ],
   "source": [
    "\n"
   ],
   "metadata": {
    "collapsed": false,
    "ExecuteTime": {
     "end_time": "2024-11-20T10:20:20.479675Z",
     "start_time": "2024-11-20T10:20:20.474981Z"
    }
   },
   "id": "eb0e7771592b123",
   "execution_count": 35
  },
  {
   "cell_type": "code",
   "outputs": [],
   "source": [],
   "metadata": {
    "collapsed": false
   },
   "id": "d58adcb00a950d04"
  }
 ],
 "metadata": {
  "kernelspec": {
   "display_name": "Python 3",
   "language": "python",
   "name": "python3"
  },
  "language_info": {
   "codemirror_mode": {
    "name": "ipython",
    "version": 2
   },
   "file_extension": ".py",
   "mimetype": "text/x-python",
   "name": "python",
   "nbconvert_exporter": "python",
   "pygments_lexer": "ipython2",
   "version": "2.7.6"
  }
 },
 "nbformat": 4,
 "nbformat_minor": 5
}
