{
 "cells": [
  {
   "cell_type": "markdown",
   "id": "8ab8883ab6c366a4",
   "metadata": {
    "collapsed": false
   },
   "source": [
    "# Zmiana formatu na użytkownik/produkt/ocena"
   ]
  },
  {
   "cell_type": "code",
   "execution_count": 2,
   "id": "initial_id",
   "metadata": {
    "ExecuteTime": {
     "end_time": "2024-11-20T17:02:55.485724Z",
     "start_time": "2024-11-20T17:02:55.481856Z"
    },
    "collapsed": true,
    "jupyter": {
     "outputs_hidden": true
    }
   },
   "outputs": [],
   "source": [
    "import pandas as pd"
   ]
  },
  {
   "cell_type": "code",
   "execution_count": 3,
   "id": "36b1e56f72e23cef",
   "metadata": {
    "ExecuteTime": {
     "end_time": "2024-11-20T17:02:56.243994Z",
     "start_time": "2024-11-20T17:02:55.952769Z"
    },
    "collapsed": false
   },
   "outputs": [
    {
     "data": {
      "text/plain": [
       "['Arkusz1']"
      ]
     },
     "execution_count": 3,
     "metadata": {},
     "output_type": "execute_result"
    }
   ],
   "source": [
    "file_path = 'preferencje.xlsx'\n",
    "excel_data = pd.ExcelFile(file_path)\n",
    "excel_data.sheet_names"
   ]
  },
  {
   "cell_type": "code",
   "execution_count": 24,
   "id": "ad111c4818451b27",
   "metadata": {
    "collapsed": false,
    "ExecuteTime": {
     "end_time": "2024-11-20T17:17:53.095252Z",
     "start_time": "2024-11-20T17:17:53.039303Z"
    }
   },
   "outputs": [
    {
     "data": {
      "text/plain": "    Unnamed: 0  \\\n0          NaN   \n1  Users/Items   \n2          Ula   \n3       109815   \n4       109521   \n\n  https://hiszpanskiesmaki.pl/przepis-na-paella-mixta-z-owocami-morza-i-miesem/  \\\n0                                            paella                               \n1                                                NaN                              \n2                                                  4                              \n3                                                  3                              \n4                                                  4                              \n\n  https://www.kwestiasmaku.com/przepis/pascha-wielkanocna   \\\n0                                 pascha wielkanocna         \n1                                                NaN         \n2                                                  5         \n3                                                  3         \n4                                                  5         \n\n  https://aniagotuje.pl/przepis/rosol-z-kury  \\\n0                               rosół z kury   \n1                                        NaN   \n2                                        NaN   \n3                                          5   \n4                                          4   \n\n  https://www.kwestiasmaku.com/przepis/zupa-z-dyni  \\\n0                                     zupa dyniowa   \n1                                              NaN   \n2                                              NaN   \n3                                                5   \n4                                                3   \n\n  https://www.kwestiasmaku.com/przepis/salatka-gyros  \\\n0                                              Gyros   \n1                                                NaN   \n2                                                NaN   \n3                                                  4   \n4                                                  5   \n\n  https://aniagotuje.pl/przepis/poledwiczki-w-sosie-musztardowym  \\\n0                   Polędwiczki w sosie musztardowym               \n1                                                NaN               \n2                                                NaN               \n3                                                  3               \n4                                                  5               \n\n  Kaszanka z grilla | AniaGotuje.pl Sałatka z ananasem | AniaGotuje.pl  \\\n0                          Kaszanka                 Sałatka z ananasem   \n1                               NaN                                NaN   \n2                               NaN                                NaN   \n3                                 2                                  5   \n4                                 4                                NaN   \n\n  https://www.mniammniam.com/przepis-na-miesny-jez  ...  \\\n0                                       Mięsny jeż  ...   \n1                                              NaN  ...   \n2                                              NaN  ...   \n3                                                4  ...   \n4                                              NaN  ...   \n\n  https://aniagotuje.pl/przepis/kebab https://aniagotuje.pl/przepis/tatar  \\\n0                               kebab                               tatar   \n1                                 NaN                                 NaN   \n2                                 NaN                                 NaN   \n3                                 NaN                                 NaN   \n4                                 NaN                                 NaN   \n\n  https://aniagotuje.pl/przepis/falafel  \\\n0                               falafel   \n1                                   NaN   \n2                                   NaN   \n3                                   NaN   \n4                                   NaN   \n\n  https://aniagotuje.pl/przepis/tradycyjny-barszcz-wigilijny  \\\n0                                   barszcz czerwony           \n1                                                NaN           \n2                                                NaN           \n3                                                NaN           \n4                                                NaN           \n\n  https://aniagotuje.pl/przepis/pierogi-ruskie  \\\n0                               pierogi ruskie   \n1                                          NaN   \n2                                          NaN   \n3                                          NaN   \n4                                          NaN   \n\n  https://www.doradcasmaku.pl/przepis-kiszka-ziemniaczana-258674  \\\n0                                kiszka ziemniaczana               \n1                                                NaN               \n2                                                NaN               \n3                                                NaN               \n4                                                NaN               \n\n  https://aniagotuje.pl/przepis/strogonow  \\\n0                         Boeuf strogonow   \n1                                     NaN   \n2                                     NaN   \n3                                     NaN   \n4                                     NaN   \n\n  https://aniagotuje.pl/przepis/nalesniki-z-serem-i-owocami  \\\n0                                  Naleśniki z serem          \n1                                                NaN          \n2                                                NaN          \n3                                                NaN          \n4                                                NaN          \n\n  https://www.kwestiasmaku.com/kuchnia_polska/pierogi/pierogi_z_miesem/przepis.html  \\\n0                                   Pierogi z mięsem                                  \n1                                                NaN                                  \n2                                                NaN                                  \n3                                                NaN                                  \n4                                                NaN                                  \n\n  https://www.digminecraft.com/food_recipes/make_steak.php  \n0                                               Stek        \n1                                                NaN        \n2                                                NaN        \n3                                                NaN        \n4                                                NaN        \n\n[5 rows x 23 columns]",
      "text/html": "<div>\n<style scoped>\n    .dataframe tbody tr th:only-of-type {\n        vertical-align: middle;\n    }\n\n    .dataframe tbody tr th {\n        vertical-align: top;\n    }\n\n    .dataframe thead th {\n        text-align: right;\n    }\n</style>\n<table border=\"1\" class=\"dataframe\">\n  <thead>\n    <tr style=\"text-align: right;\">\n      <th></th>\n      <th>Unnamed: 0</th>\n      <th>https://hiszpanskiesmaki.pl/przepis-na-paella-mixta-z-owocami-morza-i-miesem/</th>\n      <th>https://www.kwestiasmaku.com/przepis/pascha-wielkanocna</th>\n      <th>https://aniagotuje.pl/przepis/rosol-z-kury</th>\n      <th>https://www.kwestiasmaku.com/przepis/zupa-z-dyni</th>\n      <th>https://www.kwestiasmaku.com/przepis/salatka-gyros</th>\n      <th>https://aniagotuje.pl/przepis/poledwiczki-w-sosie-musztardowym</th>\n      <th>Kaszanka z grilla | AniaGotuje.pl</th>\n      <th>Sałatka z ananasem | AniaGotuje.pl</th>\n      <th>https://www.mniammniam.com/przepis-na-miesny-jez</th>\n      <th>...</th>\n      <th>https://aniagotuje.pl/przepis/kebab</th>\n      <th>https://aniagotuje.pl/przepis/tatar</th>\n      <th>https://aniagotuje.pl/przepis/falafel</th>\n      <th>https://aniagotuje.pl/przepis/tradycyjny-barszcz-wigilijny</th>\n      <th>https://aniagotuje.pl/przepis/pierogi-ruskie</th>\n      <th>https://www.doradcasmaku.pl/przepis-kiszka-ziemniaczana-258674</th>\n      <th>https://aniagotuje.pl/przepis/strogonow</th>\n      <th>https://aniagotuje.pl/przepis/nalesniki-z-serem-i-owocami</th>\n      <th>https://www.kwestiasmaku.com/kuchnia_polska/pierogi/pierogi_z_miesem/przepis.html</th>\n      <th>https://www.digminecraft.com/food_recipes/make_steak.php</th>\n    </tr>\n  </thead>\n  <tbody>\n    <tr>\n      <th>0</th>\n      <td>NaN</td>\n      <td>paella</td>\n      <td>pascha wielkanocna</td>\n      <td>rosół z kury</td>\n      <td>zupa dyniowa</td>\n      <td>Gyros</td>\n      <td>Polędwiczki w sosie musztardowym</td>\n      <td>Kaszanka</td>\n      <td>Sałatka z ananasem</td>\n      <td>Mięsny jeż</td>\n      <td>...</td>\n      <td>kebab</td>\n      <td>tatar</td>\n      <td>falafel</td>\n      <td>barszcz czerwony</td>\n      <td>pierogi ruskie</td>\n      <td>kiszka ziemniaczana</td>\n      <td>Boeuf strogonow</td>\n      <td>Naleśniki z serem</td>\n      <td>Pierogi z mięsem</td>\n      <td>Stek</td>\n    </tr>\n    <tr>\n      <th>1</th>\n      <td>Users/Items</td>\n      <td>NaN</td>\n      <td>NaN</td>\n      <td>NaN</td>\n      <td>NaN</td>\n      <td>NaN</td>\n      <td>NaN</td>\n      <td>NaN</td>\n      <td>NaN</td>\n      <td>NaN</td>\n      <td>...</td>\n      <td>NaN</td>\n      <td>NaN</td>\n      <td>NaN</td>\n      <td>NaN</td>\n      <td>NaN</td>\n      <td>NaN</td>\n      <td>NaN</td>\n      <td>NaN</td>\n      <td>NaN</td>\n      <td>NaN</td>\n    </tr>\n    <tr>\n      <th>2</th>\n      <td>Ula</td>\n      <td>4</td>\n      <td>5</td>\n      <td>NaN</td>\n      <td>NaN</td>\n      <td>NaN</td>\n      <td>NaN</td>\n      <td>NaN</td>\n      <td>NaN</td>\n      <td>NaN</td>\n      <td>...</td>\n      <td>NaN</td>\n      <td>NaN</td>\n      <td>NaN</td>\n      <td>NaN</td>\n      <td>NaN</td>\n      <td>NaN</td>\n      <td>NaN</td>\n      <td>NaN</td>\n      <td>NaN</td>\n      <td>NaN</td>\n    </tr>\n    <tr>\n      <th>3</th>\n      <td>109815</td>\n      <td>3</td>\n      <td>3</td>\n      <td>5</td>\n      <td>5</td>\n      <td>4</td>\n      <td>3</td>\n      <td>2</td>\n      <td>5</td>\n      <td>4</td>\n      <td>...</td>\n      <td>NaN</td>\n      <td>NaN</td>\n      <td>NaN</td>\n      <td>NaN</td>\n      <td>NaN</td>\n      <td>NaN</td>\n      <td>NaN</td>\n      <td>NaN</td>\n      <td>NaN</td>\n      <td>NaN</td>\n    </tr>\n    <tr>\n      <th>4</th>\n      <td>109521</td>\n      <td>4</td>\n      <td>5</td>\n      <td>4</td>\n      <td>3</td>\n      <td>5</td>\n      <td>5</td>\n      <td>4</td>\n      <td>NaN</td>\n      <td>NaN</td>\n      <td>...</td>\n      <td>NaN</td>\n      <td>NaN</td>\n      <td>NaN</td>\n      <td>NaN</td>\n      <td>NaN</td>\n      <td>NaN</td>\n      <td>NaN</td>\n      <td>NaN</td>\n      <td>NaN</td>\n      <td>NaN</td>\n    </tr>\n  </tbody>\n</table>\n<p>5 rows × 23 columns</p>\n</div>"
     },
     "execution_count": 24,
     "metadata": {},
     "output_type": "execute_result"
    }
   ],
   "source": [
    "sheet_data = pd.read_excel(file_path, sheet_name='Arkusz1')\n",
    "sheet_data.head(5)"
   ]
  },
  {
   "cell_type": "code",
   "execution_count": 5,
   "id": "790d274b80642288",
   "metadata": {
    "ExecuteTime": {
     "end_time": "2024-11-20T17:02:59.450361Z",
     "start_time": "2024-11-20T17:02:59.400903Z"
    },
    "collapsed": false
   },
   "outputs": [
    {
     "data": {
      "text/html": [
       "<div>\n",
       "<style scoped>\n",
       "    .dataframe tbody tr th:only-of-type {\n",
       "        vertical-align: middle;\n",
       "    }\n",
       "\n",
       "    .dataframe tbody tr th {\n",
       "        vertical-align: top;\n",
       "    }\n",
       "\n",
       "    .dataframe thead th {\n",
       "        text-align: right;\n",
       "    }\n",
       "</style>\n",
       "<table border=\"1\" class=\"dataframe\">\n",
       "  <thead>\n",
       "    <tr style=\"text-align: right;\">\n",
       "      <th></th>\n",
       "      <th>user</th>\n",
       "      <th>product</th>\n",
       "      <th>rating</th>\n",
       "    </tr>\n",
       "  </thead>\n",
       "  <tbody>\n",
       "    <tr>\n",
       "      <th>1</th>\n",
       "      <td>Ula</td>\n",
       "      <td>paella</td>\n",
       "      <td>4.0</td>\n",
       "    </tr>\n",
       "    <tr>\n",
       "      <th>2</th>\n",
       "      <td>109815</td>\n",
       "      <td>paella</td>\n",
       "      <td>3.0</td>\n",
       "    </tr>\n",
       "    <tr>\n",
       "      <th>3</th>\n",
       "      <td>109521</td>\n",
       "      <td>paella</td>\n",
       "      <td>4.0</td>\n",
       "    </tr>\n",
       "    <tr>\n",
       "      <th>4</th>\n",
       "      <td>107792</td>\n",
       "      <td>paella</td>\n",
       "      <td>3.0</td>\n",
       "    </tr>\n",
       "    <tr>\n",
       "      <th>6</th>\n",
       "      <td>109812</td>\n",
       "      <td>paella</td>\n",
       "      <td>4.0</td>\n",
       "    </tr>\n",
       "    <tr>\n",
       "      <th>...</th>\n",
       "      <td>...</td>\n",
       "      <td>...</td>\n",
       "      <td>...</td>\n",
       "    </tr>\n",
       "    <tr>\n",
       "      <th>460</th>\n",
       "      <td>107791</td>\n",
       "      <td>Pierogi z mięsem</td>\n",
       "      <td>5.0</td>\n",
       "    </tr>\n",
       "    <tr>\n",
       "      <th>461</th>\n",
       "      <td>109550</td>\n",
       "      <td>Pierogi z mięsem</td>\n",
       "      <td>5.0</td>\n",
       "    </tr>\n",
       "    <tr>\n",
       "      <th>471</th>\n",
       "      <td>109794</td>\n",
       "      <td>Stek</td>\n",
       "      <td>5.0</td>\n",
       "    </tr>\n",
       "    <tr>\n",
       "      <th>477</th>\n",
       "      <td>109531</td>\n",
       "      <td>Stek</td>\n",
       "      <td>5.0</td>\n",
       "    </tr>\n",
       "    <tr>\n",
       "      <th>483</th>\n",
       "      <td>109550</td>\n",
       "      <td>Stek</td>\n",
       "      <td>5.0</td>\n",
       "    </tr>\n",
       "  </tbody>\n",
       "</table>\n",
       "<p>258 rows × 3 columns</p>\n",
       "</div>"
      ],
      "text/plain": [
       "       user           product  rating\n",
       "1       Ula           paella      4.0\n",
       "2    109815           paella      3.0\n",
       "3    109521           paella      4.0\n",
       "4    107792           paella      3.0\n",
       "6    109812           paella      4.0\n",
       "..      ...               ...     ...\n",
       "460  107791  Pierogi z mięsem     5.0\n",
       "461  109550  Pierogi z mięsem     5.0\n",
       "471  109794              Stek     5.0\n",
       "477  109531              Stek     5.0\n",
       "483  109550              Stek     5.0\n",
       "\n",
       "[258 rows x 3 columns]"
      ]
     },
     "execution_count": 5,
     "metadata": {},
     "output_type": "execute_result"
    }
   ],
   "source": [
    "data = pd.read_excel(file_path, sheet_name='Arkusz1', skiprows=1) \n",
    "\n",
    "# Usuwanie pustych kolumn\n",
    "data_cleaned = data.dropna(how=\"all\", axis=1).dropna(how=\"all\", axis=0)\n",
    "data_cleaned.columns = [\"user\"] + list(data_cleaned.columns[1:])\n",
    "# Nazwanie kolumn\n",
    "data_melted = pd.melt(data_cleaned, id_vars=[\"user\"], var_name=\"product\", value_name=\"rating\")\n",
    "# Usunięcie pustych ratingów\n",
    "data_final = data_melted.dropna(subset=[\"rating\"])\n",
    "\n",
    "data_final"
   ]
  },
  {
   "cell_type": "code",
   "execution_count": 6,
   "id": "c93605f107a14471",
   "metadata": {
    "ExecuteTime": {
     "end_time": "2024-11-20T17:03:00.804034Z",
     "start_time": "2024-11-20T17:03:00.793507Z"
    },
    "collapsed": false
   },
   "outputs": [],
   "source": [
    "# Zapisanie pliku zgodnego z formatem biblioteki Surprise\n",
    "data_final.to_csv(\"data.csv\",index=False)"
   ]
  },
  {
   "cell_type": "markdown",
   "id": "3eb14a5e417deb8f",
   "metadata": {
    "collapsed": false
   },
   "source": [
    "# Ocena algorytmów"
   ]
  },
  {
   "cell_type": "code",
   "execution_count": 32,
   "id": "db07261796a53d2f",
   "metadata": {
    "collapsed": false,
    "ExecuteTime": {
     "end_time": "2024-11-20T18:29:48.206374Z",
     "start_time": "2024-11-20T18:29:48.141357Z"
    }
   },
   "outputs": [
    {
     "name": "stdout",
     "output_type": "stream",
     "text": [
      "Testowanie algorytmu: BaselineOnly\n",
      "Estimating biases using als...\n",
      "Estimating biases using als...\n",
      "Estimating biases using als...\n",
      "Estimating biases using als...\n",
      "Estimating biases using als...\n",
      "Evaluating RMSE of algorithm BaselineOnly on 5 split(s).\n",
      "\n",
      "                  Fold 1  Fold 2  Fold 3  Fold 4  Fold 5  Mean    Std     \n",
      "RMSE (testset)    1.2447  1.3860  1.2130  1.2409  1.2985  1.2766  0.0613  \n",
      "Fit time          0.00    0.00    0.00    0.00    0.00    0.00    0.00    \n",
      "Test time         0.00    0.00    0.00    0.00    0.00    0.00    0.00    \n",
      "Testowanie algorytmu: BaselineOnly Params\n",
      "Estimating biases using sgd...\n",
      "Estimating biases using sgd...\n",
      "Estimating biases using sgd...\n",
      "Estimating biases using sgd...\n",
      "Estimating biases using sgd...\n",
      "Evaluating RMSE of algorithm BaselineOnly on 5 split(s).\n",
      "\n",
      "                  Fold 1  Fold 2  Fold 3  Fold 4  Fold 5  Mean    Std     \n",
      "RMSE (testset)    1.2428  1.3221  1.2473  1.3725  1.3827  1.3135  0.0595  \n",
      "Fit time          0.00    0.00    0.00    0.00    0.00    0.00    0.00    \n",
      "Test time         0.00    0.00    0.00    0.00    0.00    0.00    0.00    \n",
      "Testowanie algorytmu: SVD\n",
      "Evaluating RMSE of algorithm SVD on 5 split(s).\n",
      "\n",
      "                  Fold 1  Fold 2  Fold 3  Fold 4  Fold 5  Mean    Std     \n",
      "RMSE (testset)    1.2970  1.5461  1.3500  1.1761  1.2046  1.3147  0.1315  \n",
      "Fit time          0.00    0.00    0.00    0.00    0.00    0.00    0.00    \n",
      "Test time         0.00    0.00    0.00    0.00    0.00    0.00    0.00    \n",
      "Testowanie algorytmu: SVD Params\n",
      "Evaluating RMSE of algorithm SVD on 5 split(s).\n",
      "\n",
      "                  Fold 1  Fold 2  Fold 3  Fold 4  Fold 5  Mean    Std     \n",
      "RMSE (testset)    1.3012  1.2677  1.2681  1.0732  1.3337  1.2488  0.0911  \n",
      "Fit time          0.00    0.00    0.00    0.00    0.00    0.00    0.00    \n",
      "Test time         0.00    0.00    0.00    0.00    0.00    0.00    0.00    \n",
      "Testowanie algorytmu: Normal Predictor\n",
      "Evaluating RMSE of algorithm NormalPredictor on 5 split(s).\n",
      "\n",
      "                  Fold 1  Fold 2  Fold 3  Fold 4  Fold 5  Mean    Std     \n",
      "RMSE (testset)    1.8428  1.6193  1.8533  1.9554  1.8304  1.8202  0.1099  \n",
      "Fit time          0.00    0.00    0.00    0.00    0.00    0.00    0.00    \n",
      "Test time         0.00    0.00    0.00    0.00    0.00    0.00    0.00    \n",
      "Testowanie algorytmu: KNN Basic\n",
      "Computing the msd similarity matrix...\n",
      "Done computing similarity matrix.\n",
      "Computing the msd similarity matrix...\n",
      "Done computing similarity matrix.\n",
      "Computing the msd similarity matrix...\n",
      "Done computing similarity matrix.\n",
      "Computing the msd similarity matrix...\n",
      "Done computing similarity matrix.\n",
      "Computing the msd similarity matrix...\n",
      "Done computing similarity matrix.\n",
      "Evaluating RMSE of algorithm KNNBasic on 5 split(s).\n",
      "\n",
      "                  Fold 1  Fold 2  Fold 3  Fold 4  Fold 5  Mean    Std     \n",
      "RMSE (testset)    1.2218  1.3677  1.3718  1.4197  1.2191  1.3200  0.0833  \n",
      "Fit time          0.00    0.00    0.00    0.00    0.00    0.00    0.00    \n",
      "Test time         0.00    0.00    0.00    0.00    0.00    0.00    0.00    \n",
      "\n",
      "Podsumowanie wyników:\n",
      "\n",
      "Algorytm: BaselineOnly\n",
      "Średni RMSE: 1.2766\n",
      "\n",
      "Algorytm: BaselineOnly Params\n",
      "Średni RMSE: 1.3135\n",
      "\n",
      "Algorytm: SVD\n",
      "Średni RMSE: 1.3147\n",
      "\n",
      "Algorytm: SVD Params\n",
      "Średni RMSE: 1.2488\n",
      "\n",
      "Algorytm: Normal Predictor\n",
      "Średni RMSE: 1.8202\n",
      "\n",
      "Algorytm: KNN Basic\n",
      "Średni RMSE: 1.3200\n"
     ]
    }
   ],
   "source": [
    "import pandas as pd\n",
    "from surprise import Dataset, Reader\n",
    "from surprise import SVD, KNNBasic, BaselineOnly, NormalPredictor\n",
    "from surprise.model_selection import cross_validate\n",
    "\n",
    "\n",
    "data = pd.read_csv(\"data.csv\")  # Upewnij się, że plik zawiera odpowiednie kolumny\n",
    "reader = Reader(rating_scale=(1.0, 5.0))  # Ustaw zakres ocen, np. od 1 do 5\n",
    "dataset = Dataset.load_from_df(data[[\"user\", \"product\", \"rating\"]], reader)\n",
    "\n",
    "algorithms = {\n",
    "    \"BaselineOnly\": BaselineOnly(),\n",
    "        \"BaselineOnly Params\": BaselineOnly(bsl_options={\n",
    "        \"method\": \"sgd\",\n",
    "        \"n_epochs\": 20,\n",
    "        \"reg_u\": 15,\n",
    "        \"reg_i\": 10,\n",
    "        \"learning_rate\": 0.005\n",
    "    }),\n",
    "    \"SVD\": SVD(),\n",
    "    \"SVD Params\": SVD(n_factors=20, n_epochs=30, lr_all=0.005, reg_all=0.02),\n",
    "    \"Normal Predictor\": NormalPredictor(),\n",
    "    \"KNN Basic\": KNNBasic()\n",
    "\n",
    "\n",
    "}\n",
    "\n",
    "# Testowanie każdego algorytmu\n",
    "results = {}\n",
    "for name, algo in algorithms.items():\n",
    "    print(f\"Testowanie algorytmu: {name}\")\n",
    "    cv_results = cross_validate(algo, dataset, measures=['RMSE'], cv=5, verbose=True)\n",
    "    results[name] = cv_results\n",
    "\n",
    "# Podsumowanie wyników\n",
    "print(\"\\nPodsumowanie wyników:\")\n",
    "for name, cv_results in results.items():\n",
    "    print(f\"\\nAlgorytm: {name}\")\n",
    "    print(f\"Średni RMSE: {cv_results['test_rmse'].mean():.4f}\")\n"
   ]
  },
  {
   "cell_type": "markdown",
   "id": "c0dfddf0d75f1f63",
   "metadata": {
    "collapsed": false
   },
   "source": [
    "# Rekomendacja osobista"
   ]
  },
  {
   "cell_type": "code",
   "execution_count": 33,
   "id": "d58adcb00a950d04",
   "metadata": {
    "collapsed": false,
    "ExecuteTime": {
     "end_time": "2024-11-20T18:29:50.317501Z",
     "start_time": "2024-11-20T18:29:50.299825Z"
    }
   },
   "outputs": [
    {
     "name": "stdout",
     "output_type": "stream",
     "text": [
      "\n",
      "Rekomendacje dla użytkownika 107885 z algorytmem: BaselineOnly\n",
      "Estimating biases using als...\n",
      "Trzy najbardziej rekomendowane potrawy dla 107885:\n",
      "1. kebab, ocena 3.99\n",
      "2. ciasto murzynek, ocena 3.96\n",
      "3. rosół z kury, ocena 3.91\n",
      "\n",
      "Rekomendacje dla użytkownika 107885 z algorytmem: BaselineOnly Params\n",
      "Estimating biases using sgd...\n",
      "Trzy najbardziej rekomendowane potrawy dla 107885:\n",
      "1. kebab, ocena 4.11\n",
      "2. ciasto murzynek, ocena 4.11\n",
      "3. rosół z kury, ocena 4.05\n",
      "\n",
      "Rekomendacje dla użytkownika 107885 z algorytmem: SVD\n",
      "Trzy najbardziej rekomendowane potrawy dla 107885:\n",
      "1. ciasto murzynek, ocena 4.08\n",
      "2. kebab, ocena 4.03\n",
      "3. rosół z kury, ocena 3.98\n",
      "\n",
      "Rekomendacje dla użytkownika 107885 z algorytmem: SVD Params\n",
      "Trzy najbardziej rekomendowane potrawy dla 107885:\n",
      "1. kebab, ocena 4.31\n",
      "2. ciasto murzynek, ocena 4.18\n",
      "3. rosół z kury, ocena 4.12\n",
      "\n",
      "Rekomendacje dla użytkownika 107885 z algorytmem: Normal Predictor\n",
      "Trzy najbardziej rekomendowane potrawy dla 107885:\n",
      "1. paella , ocena 5.00\n",
      "2. Stek, ocena 5.00\n",
      "3. Gyros, ocena 4.57\n",
      "\n",
      "Rekomendacje dla użytkownika 107885 z algorytmem: KNN Basic\n",
      "Computing the msd similarity matrix...\n",
      "Done computing similarity matrix.\n",
      "Trzy najbardziej rekomendowane potrawy dla 107885:\n",
      "1. paella , ocena 3.41\n",
      "2. pascha wielkanocna, ocena 3.41\n",
      "3. rosół z kury, ocena 3.41\n"
     ]
    }
   ],
   "source": [
    "from surprise import Dataset, Reader, BaselineOnly, KNNBasic, SVD, NormalPredictor\n",
    "from surprise.model_selection import train_test_split\n",
    "\n",
    "reader = Reader(rating_scale=(1, 5))  # Określenie zakresu ocen\n",
    "data_surprise = Dataset.load_from_df(data[[\"user\", \"product\", \"rating\"]], reader)\n",
    "\n",
    "# Podział danych na zbiór treningowy i testowy\n",
    "trainset, testset = train_test_split(data_surprise, test_size=0.2)\n",
    "\n",
    "# Wybrany użytkownik\n",
    "selected_user = '107885'  # Zamień na ID użytkownika, którego rekomendacje chcesz wygenerować\n",
    "\n",
    "# Lista wszystkich produktów\n",
    "all_products = data['product'].unique()\n",
    "\n",
    "# Produkty, które użytkownik już ocenił\n",
    "rated_products = data[data['user'] == selected_user]['product'].values\n",
    "\n",
    "# Produkty, których użytkownik jeszcze nie ocenił\n",
    "unrated_products = [p for p in all_products if p not in rated_products]\n",
    "\n",
    "# Testowanie każdego algorytmu\n",
    "for algo_name, algo in algorithms.items():\n",
    "    print(f\"\\nRekomendacje dla użytkownika {selected_user} z algorytmem: {algo_name}\")\n",
    "    algo.fit(trainset)\n",
    "\n",
    "    # Przewidywanie ocen dla nieocenionych produktów\n",
    "    recommendations = []\n",
    "    for product in unrated_products:\n",
    "        prediction = algo.predict(selected_user, product)\n",
    "        recommendations.append((product, prediction.est))\n",
    "\n",
    "    # Sortowanie rekomendacji według przewidywanej oceny (malejąco)\n",
    "    recommendations.sort(key=lambda x: x[1], reverse=True)\n",
    "\n",
    "    # Wyświetlanie trzech najlepszych rekomendacji\n",
    "    print(f\"Trzy najbardziej rekomendowane potrawy dla {selected_user}:\")\n",
    "    for i in range(min(3, len(recommendations))):\n",
    "        product, rating = recommendations[i]\n",
    "        print(f\"{i + 1}. {product}, ocena {rating:.2f}\")\n"
   ]
  },
  {
   "cell_type": "markdown",
   "source": [
    "### Subiektywna ocena\n",
    "###### SVD z dodatkowymi parametrami wskazało najdokładniej potrawy, które potencjalnie zamówiłbym do jedzenia, są one bardzo dobrze zarekomendowae. Wersje algorytmu BaselineOnly czysta oraz ze zmodyfikowanymi parametrami również trafnie przewiduje rekomendacje, lecz mają one niższe wagi niż w przypadku algorytmu SVD. Odwrotnie sytuacja wygląda dla funkcji NormalPredictor oraz KNN basic, gdzie żadne z wymienionych 3 dań nie wzbudza moich kulinarnych uniesień. "
   ],
   "metadata": {
    "collapsed": false
   },
   "id": "ac11272fd56599"
  },
  {
   "cell_type": "markdown",
   "source": [
    "### Wnioski\n",
    "### Im niższa wartość RMSE, tym lepsza skuteczność algorytmu, ponieważ oznacza mniejszy błąd średniokwadratowy między przewidywaną oceną a rzeczywistą oceną.\n",
    "\n",
    "Metoda / Wynik / Opis\n",
    "SVD\t1.3147\tMetoda dekompozycji macierzy (Singular Value Decomposition), która modeluje ukryte czynniki w interakcjach użytkownik-produkt.\n",
    "SVD Params\t1.2488\tUlepszona wersja SVD z ręcznie dobranymi parametrami, co pozwoliło uzyskać najlepszy wynik RMSE.\n",
    "BaselineOnly\t1.2766\tAlgorytm wykorzystuje średnie oceny użytkowników i produktów do przewidywania ocen. Prosty i szybki.\n",
    "BaselineOnly Params\t1.3135\tWersja BaselineOnly z dostosowanymi parametrami, co może poprawić dopasowanie, ale czasem prowadzi do gorszych wyników.\n",
    "KNN Basic\t1.3200\tAlgorytm oparty na metodzie najbliższych sąsiadów (K-Nearest Neighbors), analizujący podobieństwo między użytkownikami lub produktami.\n",
    "Normal Predictor\t1.8202\tLosowy algorytm przewidujący oceny jako losowe wartości w zakresie średniej i odchylenia standardowego.\n",
    "\n",
    "\n",
    "Najlepszy wynik RMSE uzyskał algorytm SVD Params (1.2488), co sugeruje, że tuning parametrów dekompozycji macierzy pozwala osiągnąć dobre wyniki w przewidywaniu ocen.\n",
    "BaselineOnly (1.2766) oraz KNN Basic (1.3200) również osiągnęły przyzwoite wyniki, pokazując, że prostsze algorytmy mogą być skuteczne.\n",
    "Dostosowywanie parametrów (np. w SVD Params) może znacząco wpłynąć na efektywność algorytmu, poprawiając wyniki przewidywania.\n",
    "Normal Predictor (1.8202) wykazał najsłabszy wynik, co jest oczekiwane, ponieważ jest to algorytm generujący losowe wyniki.\n",
    "\n",
    "\n"
   ],
   "metadata": {
    "collapsed": false
   },
   "id": "a627e603c1ca1e74"
  },
  {
   "cell_type": "markdown",
   "source": [],
   "metadata": {
    "collapsed": false
   },
   "id": "3d324fcb4838dee4"
  },
  {
   "cell_type": "code",
   "outputs": [],
   "source": [],
   "metadata": {
    "collapsed": false
   },
   "id": "c4dd32bc303b65a9"
  }
 ],
 "metadata": {
  "kernelspec": {
   "display_name": "Python 3 (ipykernel)",
   "language": "python",
   "name": "python3"
  },
  "language_info": {
   "codemirror_mode": {
    "name": "ipython",
    "version": 3
   },
   "file_extension": ".py",
   "mimetype": "text/x-python",
   "name": "python",
   "nbconvert_exporter": "python",
   "pygments_lexer": "ipython3",
   "version": "3.12.0"
  }
 },
 "nbformat": 4,
 "nbformat_minor": 5
}
